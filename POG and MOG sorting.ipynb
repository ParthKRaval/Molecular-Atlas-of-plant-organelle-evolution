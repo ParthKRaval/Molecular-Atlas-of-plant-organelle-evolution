{
 "cells": [
  {
   "cell_type": "code",
   "execution_count": null,
   "metadata": {},
   "outputs": [],
   "source": [
    "#2. POG and MOG sorting\n",
    "import glob\n",
    "import pandas as pd\n",
    "import glob\n",
    "import numpy as np\n",
    "import os\n",
    "import json\n",
    "df1=pd.read_csv('Exp_Prot_KEGGID.csv') ##list of organelle proteins based in five (plastid) and four (mitochondria) proteomes\n",
    "Exp_Pl_prot = df1['Pl_ProtID'].tolist()\n",
    "Exp_Mt_prot = df1['Mt_ProtID'].tolist()\n",
    "df2=pd.read_csv('Orthogroups_SpNames.csv')\n",
    "df3=pd.read_csv('Orthogroups_GCN.csv')\n",
    "\n",
    "POG=['spcodes', 'Group']\n",
    "for i in Exp_Pl_prot:\n",
    "    with open ('Orthogroups.txt') as f1: ##from orthofinder output\n",
    "        for ln in f1:\n",
    "            if i in ln:\n",
    "                OGID=ln.split(':')[0]\n",
    "                if OGID not in POG:  \n",
    "                    print(OGID)\n",
    "                    POG.append(OGID)\n",
    "\n",
    "PlOGs = df2.loc[:, df2.columns.isin(POG)]\n",
    "PlOGs.to_csv('POGs_protIDs.csv') ##table  S2C\n",
    "PlOGs = df3.loc[:, df3.columns.isin(POG)]\n",
    "PlOGs['Total_protein'] = PlOGs.iloc[:, 2:].sum(axis=1)\n",
    "PlOGs['Total_OG'] = (PlOGs.iloc[:, 2:] > 0).sum(axis=1)\n",
    "PlOGs['Prot_per_OG'] =PlOGs['Total_protein']/PlOGs['Total_OG']\n",
    "PlOGs.to_csv('POGs_GCNs.csv',index=None) ##table  S2E\n",
    "\n",
    "import pandas as pd\n",
    "import math\n",
    "MOG=['spcodes', 'Group']\n",
    "for i in Exp_Mt_prot:\n",
    "    if not pd.isna(i):\n",
    "        print(i)\n",
    "        with open ('Orthogroups.txt') as f1:\n",
    "            for ln in f1:\n",
    "                if i in ln:\n",
    "                    OGID=ln.split(':')[0]\n",
    "                    if OGID not in MOG:  \n",
    "                        print(OGID)\n",
    "                        MOG.append(OGID)\n",
    "\n",
    "MtOGs = df2.loc[:, df2.columns.isin(MOG)]\n",
    "MtOGs.to_csv('MOGs_protIDs.csv') ##table  S2D\n",
    "MtOGs = df3.loc[:, df3.columns.isin(MOG)]\n",
    "MtOGs['Total_protein'] = MtOGs.iloc[:, 2:].sum(axis=1)\n",
    "MtOGs['Total_OG'] = (MtOGs.iloc[:, 2:] > 0).sum(axis=1)\n",
    "MtOGs['Prot_per_OG'] =MtOGs['Total_protein']/MtOGs['Total_OG']\n",
    "MtOGs.to_csv('MOGs_GCNs.csv',index=None) ##table  S2F"
   ]
  }
 ],
 "metadata": {
  "kernelspec": {
   "display_name": "Python 3",
   "language": "python",
   "name": "python3"
  },
  "language_info": {
   "name": "python",
   "version": "3.9.6"
  }
 },
 "nbformat": 4,
 "nbformat_minor": 2
}
